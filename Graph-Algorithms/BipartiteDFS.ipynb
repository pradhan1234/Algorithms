{
 "cells": [
  {
   "cell_type": "code",
   "execution_count": 1,
   "metadata": {},
   "outputs": [
    {
     "name": "stdout",
     "output_type": "stream",
     "text": [
      "Check Bipartite using DFS Algorithm Implementation:\n"
     ]
    }
   ],
   "source": [
    "print(\"Check Bipartite using DFS Algorithm Implementation:\")\n",
    "import networkx as nx\n",
    "import matplotlib.pyplot as plt"
   ]
  },
  {
   "cell_type": "code",
   "execution_count": 2,
   "metadata": {},
   "outputs": [],
   "source": [
    "# graph = {\n",
    "#     0: [1, 2],\n",
    "#     1: [0, 2, 4, 5],\n",
    "#     2: [0, 1, 3, 6],\n",
    "#     3: [2],\n",
    "#     4: [1, 5],\n",
    "#     5: [1, 4, 6],\n",
    "#     6: [2, 5],\n",
    "#     7: [8],\n",
    "#     8: [7, 9],\n",
    "#     9: [8]\n",
    "# }\n",
    "\n",
    "# graph = {\n",
    "#     's': ['z', 'w'],\n",
    "#     't': ['v', 'u'],\n",
    "#     'u': ['t', 'v'],\n",
    "#     'v': ['s', 'w'],\n",
    "#     'w': ['x'],\n",
    "#     'x': ['z'],\n",
    "#     'y': ['x'],\n",
    "#     'z': ['y', 'w'],\n",
    "# }\n",
    "\n",
    "# graph = {\n",
    "#     0: [1, 2],\n",
    "#     1: [0, 2],\n",
    "#     2: [0, 1, 3, 4],\n",
    "#     3: [2, 4],\n",
    "#     4: [2, 3],\n",
    "#     5: [6],\n",
    "#     6: [5, 7],\n",
    "#     7: [6],\n",
    "#     8: [9],\n",
    "#     9: [8],\n",
    "#     10: []\n",
    "# }\n",
    "\n",
    "graph = {\n",
    "    0: [4],\n",
    "    1: [5],\n",
    "    2: [4],\n",
    "    3: [5],\n",
    "    4: [0,2],\n",
    "    5: [1, 3],\n",
    "    6: [7],\n",
    "    7: [6, 9],\n",
    "    8: [9],\n",
    "    9: [8]\n",
    "}\n",
    "\n",
    "position = {\n",
    "    0: (1,11),\n",
    "    1: (1,9),\n",
    "    2: (1,7),\n",
    "    3: (1,5),\n",
    "    4: (4,10),\n",
    "    5: (4, 8),\n",
    "    6: (4, 6),\n",
    "    7: (1, 3),\n",
    "    8: (1,1),\n",
    "    9: (4,2)\n",
    "}"
   ]
  },
  {
   "cell_type": "code",
   "execution_count": 3,
   "metadata": {},
   "outputs": [],
   "source": [
    "# replacing the name color with visited information\n",
    "\n",
    "# visited = [False for u in graph]\n",
    "# parent = [None for u in graph]\n",
    "# start = [-1 for u in graph]\n",
    "# finish = [-1 for u in graph]\n",
    "# t = 0\n",
    "\n",
    "color = {}\n",
    "# this is for 2 coloring of the graph Red and Blue\n",
    "visited = {}\n",
    "parent = {}\n",
    "start = {}\n",
    "finish = {}\n",
    "t = 0\n",
    "\n",
    "for u in graph:\n",
    "    visited[u] = False\n",
    "    parent[u] = None\n",
    "    start[u] = -1\n",
    "    finish[u] = -1\n",
    "    color[u] = 'White'\n",
    "    \n",
    "#modification for coloring left below this line\n",
    "\n",
    "def dfs(graph):\n",
    "\n",
    "    for u in graph:\n",
    "        if visited[u] == False:\n",
    "            color[u] = 'Red'\n",
    "            bipartite = dfs_visit(graph, u)\n",
    "            if bipartite == False:\n",
    "                return bipartite\n",
    "    return bipartite\n",
    "\n",
    "def dfs_visit(graph, u):\n",
    "    \n",
    "    visited[u] = True\n",
    "    global t\n",
    "    t += 1\n",
    "    start[u] = t\n",
    "    \n",
    "    printInfo(u)\n",
    "        \n",
    "    for v in graph[u]:\n",
    "        bipartite = None\n",
    "        if visited[v] == True:\n",
    "            if color[u] == color[v]:\n",
    "                print(\"Abort Mission\")\n",
    "                bipartite = False\n",
    "                return False\n",
    "        elif visited[v] == False:\n",
    "            if color[u] == 'Red':\n",
    "                color[v] = 'Blue'\n",
    "            else:\n",
    "                color[v] = 'Red'\n",
    "            parent[v] = u\n",
    "            bipartite = dfs_visit(graph, v)\n",
    "            if(bipartite == False):\n",
    "                return False\n",
    "            printInfo(u) \n",
    "                   \n",
    "    t += 1\n",
    "    finish[u] = t\n",
    "    #visited[u] = True\n",
    "    \n",
    "    printInfo(u)\n",
    "    return bipartite\n",
    "    \n",
    "def printInfo(u):\n",
    "    print(\"Node:\", u, color[u])\n",
    "#     print(\"Visited:\", visited[u])\n",
    "#     print(\"Start:\", start[u])\n",
    "#     print(\"Finish:\", finish[u])\n",
    "#     print(\"Parent:\", parent[u])\n",
    "#     print()\n",
    "    return\n",
    "    \n",
    "def printAllInfo(graph):\n",
    "    \n",
    "#     print(\"Node\\t Start\\t Finish\\t Parent\")\n",
    "#     for u in graph:\n",
    "#         print(u, \"\\t\", start[u], \"\\t\", finish[u], \"\\t\", parent[u])\n",
    "    return"
   ]
  },
  {
   "cell_type": "code",
   "execution_count": 4,
   "metadata": {},
   "outputs": [
    {
     "name": "stdout",
     "output_type": "stream",
     "text": [
      "Node: 0 Red\n",
      "Node: 4 Blue\n",
      "Node: 2 Red\n",
      "Node: 2 Red\n",
      "Node: 4 Blue\n",
      "Node: 4 Blue\n",
      "Node: 0 Red\n",
      "Node: 0 Red\n",
      "Node: 1 Red\n",
      "Node: 5 Blue\n",
      "Node: 3 Red\n",
      "Node: 3 Red\n",
      "Node: 5 Blue\n",
      "Node: 5 Blue\n",
      "Node: 1 Red\n",
      "Node: 1 Red\n",
      "Node: 6 Red\n",
      "Node: 7 Blue\n",
      "Node: 9 Red\n",
      "Node: 8 Blue\n",
      "Node: 8 Blue\n",
      "Node: 9 Red\n",
      "Node: 9 Red\n",
      "Node: 7 Blue\n",
      "Node: 7 Blue\n",
      "Node: 6 Red\n",
      "Node: 6 Red\n"
     ]
    }
   ],
   "source": [
    "dfs(graph)"
   ]
  },
  {
   "cell_type": "code",
   "execution_count": 5,
   "metadata": {},
   "outputs": [],
   "source": [
    "printAllInfo(graph)"
   ]
  },
  {
   "cell_type": "code",
   "execution_count": 6,
   "metadata": {},
   "outputs": [
    {
     "data": {
      "text/plain": [
       "{0: 'Red',\n",
       " 1: 'Red',\n",
       " 2: 'Red',\n",
       " 3: 'Red',\n",
       " 4: 'Blue',\n",
       " 5: 'Blue',\n",
       " 6: 'Red',\n",
       " 7: 'Blue',\n",
       " 8: 'Blue',\n",
       " 9: 'Red'}"
      ]
     },
     "execution_count": 6,
     "metadata": {},
     "output_type": "execute_result"
    }
   ],
   "source": [
    "color"
   ]
  },
  {
   "cell_type": "code",
   "execution_count": 7,
   "metadata": {},
   "outputs": [
    {
     "data": {
      "image/png": "[encoded data removed]",
      "text/plain": [
       "<matplotlib.figure.Figure at 0x1c51296e470>"
      ]
     },
     "metadata": {},
     "output_type": "display_data"
    }
   ],
   "source": [
    "G = nx.Graph()\n",
    "G.clear()\n",
    "\n",
    "for u in graph:\n",
    "    G.add_node(str(u), pos = position[u])\n",
    "    \n",
    "for u in graph:\n",
    "    for v in graph[u]:\n",
    "        G.add_edge(str(u), str(v))\n",
    "        \n",
    "pos=nx.get_node_attributes(G,'pos')\n",
    "nx.draw(G,pos,with_labels=True, font_weight='bold', node_color=[color[u] for u in graph])\n",
    "plt.show()"
   ]
  },
  {
   "cell_type": "code",
   "execution_count": null,
   "metadata": {},
   "outputs": [],
   "source": []
  },
  {
   "cell_type": "code",
   "execution_count": null,
   "metadata": {},
   "outputs": [],
   "source": []
  }
 ],
 "metadata": {
  "kernelspec": {
   "display_name": "Python 3",
   "language": "python",
   "name": "python3"
  },
  "language_info": {
   "codemirror_mode": {
    "name": "ipython",
    "version": 3
   },
   "file_extension": ".py",
   "mimetype": "text/x-python",
   "name": "python",
   "nbconvert_exporter": "python",
   "pygments_lexer": "ipython3",
   "version": "3.6.3"
  }
 },
 "nbformat": 4,
 "nbformat_minor": 2
}
