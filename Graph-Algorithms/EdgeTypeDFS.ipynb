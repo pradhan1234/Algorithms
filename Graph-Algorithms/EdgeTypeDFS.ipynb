{
 "cells": [
  {
   "cell_type": "code",
   "execution_count": 17,
   "metadata": {},
   "outputs": [
    {
     "name": "stdout",
     "output_type": "stream",
     "text": [
      "Edge Type DFS Algorithm Modification:\n"
     ]
    }
   ],
   "source": [
    "print(\"Edge Type DFS Algorithm Modification:\")\n",
    "import networkx as nx\n",
    "import matplotlib.pyplot as plt"
   ]
  },
  {
   "cell_type": "code",
   "execution_count": 18,
   "metadata": {},
   "outputs": [],
   "source": [
    "# graph = {\n",
    "#     0: [1, 2],\n",
    "#     1: [0, 2, 4, 5],\n",
    "#     2: [0, 1, 3, 6],\n",
    "#     3: [2],\n",
    "#     4: [1, 5],\n",
    "#     5: [1, 4, 6],\n",
    "#     6: [2, 5],\n",
    "#     7: [8],\n",
    "#     8: [7, 9],\n",
    "#     9: [8]\n",
    "# }\n",
    "\n",
    "graph = {\n",
    "    's': ['z', 'w'],\n",
    "    't': ['v', 'u'],\n",
    "    'u': ['t', 'v'],\n",
    "    'v': ['s', 'w'],\n",
    "    'w': ['x'],\n",
    "    'x': ['z'],\n",
    "    'y': ['x'],\n",
    "    'z': ['y', 'w'],\n",
    "}\n",
    "\n",
    "# graph = {\n",
    "#     0: [1, 2],\n",
    "#     1: [0, 2],\n",
    "#     2: [0, 1, 3, 4],\n",
    "#     3: [2, 4],\n",
    "#     4: [2, 3],\n",
    "#     5: [6],\n",
    "#     6: [5, 7],\n",
    "#     7: [6],\n",
    "#     8: [9],\n",
    "#     9: [8],\n",
    "#     10: []\n",
    "# }\n",
    "\n",
    "position = {\n",
    "    's': (7,5),\n",
    "    't': (10,5),\n",
    "    'u': (10,1),\n",
    "    'v': (7,1),\n",
    "    'w': (4,1),\n",
    "    'x': (1,1),\n",
    "    'y': (1,5),\n",
    "    'z': (4,5)\n",
    "}"
   ]
  },
  {
   "cell_type": "code",
   "execution_count": 4,
   "metadata": {},
   "outputs": [],
   "source": [
    "# color = ['white' for u in graph]\n",
    "# parent = [None for u in graph]\n",
    "# start = [-1 for u in graph]\n",
    "# finish = [-1 for u in graph]\n",
    "# t = 0\n",
    "\n",
    "color = {}\n",
    "parent = {}\n",
    "start = {}\n",
    "finish = {}\n",
    "edgeType = {}\n",
    "t = 0\n",
    "\n",
    "for u in graph:\n",
    "    color[u] = 'white'\n",
    "    parent[u] = None\n",
    "    start[u] = -1\n",
    "    finish[u] = -1\n",
    "    edgeType[u] = {}\n",
    "\n",
    "def dfs(graph):\n",
    "\n",
    "    for u in graph:\n",
    "        if color[u] == 'white':\n",
    "            dfs_visit(graph, u)\n",
    "            \n",
    "def dfs_visit(graph, u):\n",
    "    \n",
    "    color[u] = 'gray'\n",
    "    global t\n",
    "    t += 1\n",
    "    start[u] = t\n",
    "    \n",
    "    printInfo(u)\n",
    "        \n",
    "    for v in graph[u]:\n",
    "        edgeType[u][v] = None\n",
    "        \n",
    "        if color[v] == 'black':\n",
    "            if isContained(v, u):\n",
    "                edgeType[u][v] = 'Forward'\n",
    "            else:\n",
    "                edgeType[u][v] = 'Cross'\n",
    "        \n",
    "        if color[v] == 'gray':\n",
    "            edgeType[u][v] = 'Back'\n",
    "        \n",
    "        if color[v] == 'white':\n",
    "            edgeType[u][v] = 'Tree'\n",
    "            parent[v] = u\n",
    "            dfs_visit(graph, v)\n",
    "            printInfo(u) \n",
    "                   \n",
    "    t += 1\n",
    "    finish[u] = t\n",
    "    color[u] = 'black'\n",
    "    \n",
    "    printInfo(u)\n",
    "    \n",
    "def isContained(v, u):\n",
    "    # v is contained in u\n",
    "    # u.start                   u.finish\n",
    "    # |<-----------u----------->|\n",
    "    #          |<---v--->|\n",
    "    #         v.start    v.finish\n",
    "    \n",
    "    if((start[v] > start[u]) and (finish[u]==-1)):\n",
    "        return True\n",
    "    \n",
    "def printInfo(u):\n",
    "    print(\"Node:\", u)\n",
    "#     print(\"Color:\", color[u])\n",
    "#     print(\"Start:\", start[u])\n",
    "#     print(\"Finish:\", finish[u])\n",
    "#     print(\"Parent:\", parent[u])\n",
    "#     print()\n",
    "    \n",
    "def printAllInfo(graph):\n",
    "    \n",
    "    print(\"Node\\t Start\\t Finish\\t Parent\")\n",
    "    for u in graph:\n",
    "        print(u, \"\\t\", start[u], \"\\t\", finish[u], \"\\t\", parent[u])"
   ]
  },
  {
   "cell_type": "code",
   "execution_count": 5,
   "metadata": {},
   "outputs": [
    {
     "name": "stdout",
     "output_type": "stream",
     "text": [
      "Node: s\n",
      "Node: z\n",
      "Node: y\n",
      "Node: x\n",
      "Node: x\n",
      "Node: y\n",
      "Node: y\n",
      "Node: z\n",
      "Node: w\n",
      "Node: w\n",
      "Node: z\n",
      "Node: z\n",
      "Node: s\n",
      "Node: s\n",
      "Node: t\n",
      "Node: v\n",
      "Node: v\n",
      "Node: t\n",
      "Node: u\n",
      "Node: u\n",
      "Node: t\n",
      "Node: t\n"
     ]
    }
   ],
   "source": [
    "dfs(graph)"
   ]
  },
  {
   "cell_type": "code",
   "execution_count": 6,
   "metadata": {},
   "outputs": [
    {
     "name": "stdout",
     "output_type": "stream",
     "text": [
      "Node\t Start\t Finish\t Parent\n",
      "s \t 1 \t 10 \t None\n",
      "t \t 11 \t 16 \t None\n",
      "u \t 14 \t 15 \t t\n",
      "v \t 12 \t 13 \t t\n",
      "w \t 7 \t 8 \t z\n",
      "x \t 4 \t 5 \t y\n",
      "y \t 3 \t 6 \t z\n",
      "z \t 2 \t 9 \t s\n"
     ]
    }
   ],
   "source": [
    "printAllInfo(graph)"
   ]
  },
  {
   "cell_type": "code",
   "execution_count": 7,
   "metadata": {},
   "outputs": [
    {
     "data": {
      "text/plain": [
       "{'s': ['z', 'w'],\n",
       " 't': ['v', 'u'],\n",
       " 'u': ['t', 'v'],\n",
       " 'v': ['s', 'w'],\n",
       " 'w': ['x'],\n",
       " 'x': ['z'],\n",
       " 'y': ['x'],\n",
       " 'z': ['y', 'w']}"
      ]
     },
     "execution_count": 7,
     "metadata": {},
     "output_type": "execute_result"
    }
   ],
   "source": [
    "graph"
   ]
  },
  {
   "cell_type": "code",
   "execution_count": 8,
   "metadata": {},
   "outputs": [
    {
     "data": {
      "text/plain": [
       "{'s': {'w': 'Forward', 'z': 'Tree'},\n",
       " 't': {'u': 'Tree', 'v': 'Tree'},\n",
       " 'u': {'t': 'Back', 'v': 'Cross'},\n",
       " 'v': {'s': 'Cross', 'w': 'Cross'},\n",
       " 'w': {'x': 'Cross'},\n",
       " 'x': {'z': 'Back'},\n",
       " 'y': {'x': 'Tree'},\n",
       " 'z': {'w': 'Tree', 'y': 'Tree'}}"
      ]
     },
     "execution_count": 8,
     "metadata": {},
     "output_type": "execute_result"
    }
   ],
   "source": [
    "edgeType"
   ]
  },
  {
   "cell_type": "code",
   "execution_count": 30,
   "metadata": {},
   "outputs": [
    {
     "data": {
      "image/png": "[encoded data removed]",
      "text/plain": [
       "<matplotlib.figure.Figure at 0x193ee709940>"
      ]
     },
     "metadata": {},
     "output_type": "display_data"
    }
   ],
   "source": [
    "G = nx.DiGraph()\n",
    "G.clear()\n",
    "\n",
    "for u in graph:\n",
    "    G.add_node(str(u), pos = position[u])\n",
    "    \n",
    "edgeColors = []\n",
    "for u in graph:\n",
    "    for v in graph[u]:\n",
    "        if edgeType[u][v] == 'Tree':\n",
    "            edgeColor = 'Green'\n",
    "        elif edgeType[u][v] == 'Forward':\n",
    "            edgeColor = 'Yellow'\n",
    "        elif edgeType[u][v] == 'Back':\n",
    "            edgeColor = 'Blue'\n",
    "        else:\n",
    "            edgeColor = 'Black'\n",
    "            \n",
    "        edgeColors.append(edgeColor)\n",
    "        G.add_edge(str(u), str(v))\n",
    "\n",
    "pos=nx.get_node_attributes(G,'pos')\n",
    "# nx.draw(G,pos,with_labels=True, font_weight='bold')\n",
    "        \n",
    "nx.draw(G,pos, with_labels=True, font_weight='bold', edge_color=edgeColors)\n",
    "plt.show()"
   ]
  },
  {
   "cell_type": "code",
   "execution_count": 31,
   "metadata": {},
   "outputs": [
    {
     "name": "stdout",
     "output_type": "stream",
     "text": [
      "['s', 't', 'u', 'v', 'w', 'x', 'y', 'z']\n",
      "[('s', 'z'), ('s', 'w'), ('t', 'v'), ('t', 'u'), ('u', 't'), ('u', 'v'), ('v', 's'), ('v', 'w'), ('w', 'x'), ('x', 'z'), ('y', 'x'), ('z', 'y'), ('z', 'w')]\n"
     ]
    }
   ],
   "source": [
    "print(list(G.nodes))\n",
    "print(list(G.edges))"
   ]
  },
  {
   "cell_type": "code",
   "execution_count": null,
   "metadata": {},
   "outputs": [],
   "source": []
  },
  {
   "cell_type": "code",
   "execution_count": null,
   "metadata": {},
   "outputs": [],
   "source": []
  }
 ],
 "metadata": {
  "kernelspec": {
   "display_name": "Python 3",
   "language": "python",
   "name": "python3"
  },
  "language_info": {
   "codemirror_mode": {
    "name": "ipython",
    "version": 3
   },
   "file_extension": ".py",
   "mimetype": "text/x-python",
   "name": "python",
   "nbconvert_exporter": "python",
   "pygments_lexer": "ipython3",
   "version": "3.6.3"
  }
 },
 "nbformat": 4,
 "nbformat_minor": 2
}
