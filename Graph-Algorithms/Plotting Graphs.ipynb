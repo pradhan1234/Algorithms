{
 "cells": [
  {
   "cell_type": "code",
   "execution_count": 1,
   "metadata": {},
   "outputs": [],
   "source": [
    "import networkx as nx\n",
    "import matplotlib.pyplot as plt"
   ]
  },
  {
   "cell_type": "code",
   "execution_count": 2,
   "metadata": {},
   "outputs": [],
   "source": [
    "#graphs\n",
    "\n",
    "# graph = {\n",
    "#     0: [1, 2],\n",
    "#     1: [0, 2, 4, 5],\n",
    "#     2: [0, 1, 3, 6],\n",
    "#     3: [2],\n",
    "#     4: [1, 5],\n",
    "#     5: [1, 4, 6],\n",
    "#     6: [2, 5],\n",
    "#     7: [8],\n",
    "#     8: [7, 9],\n",
    "#     9: [8]\n",
    "# }\n",
    "\n",
    "# graph = {\n",
    "#     's': ['z', 'w'],\n",
    "#     't': ['v', 'u'],\n",
    "#     'u': ['t', 'v'],\n",
    "#     'v': ['s', 'w'],\n",
    "#     'w': ['x'],\n",
    "#     'x': ['z'],\n",
    "#     'y': ['x'],\n",
    "#     'z': ['y', 'w'],\n",
    "# }\n",
    "\n",
    "# graph = {\n",
    "#     0: [1, 2],\n",
    "#     1: [0, 2],\n",
    "#     2: [0, 1, 3, 4],\n",
    "#     3: [2, 4],\n",
    "#     4: [2, 3],\n",
    "#     5: [6],\n",
    "#     6: [5, 7],\n",
    "#     7: [6],\n",
    "#     8: [9],\n",
    "#     9: [8],\n",
    "#     10: []\n",
    "# }\n",
    "\n",
    "# graph = {\n",
    "#     0: [4, 5, 6],\n",
    "#     1: [4, 5, 6],\n",
    "#     2: [4, 5, 6],\n",
    "#     3: [4, 5, 6],\n",
    "#     4: [0, 1, 2, 3],\n",
    "#     5: [0, 1, 2, 3],\n",
    "#     6: [0, 1, 2, 3],\n",
    "#     7: [9],\n",
    "#     8: [9],\n",
    "#     9: [7, 8]\n",
    "# }\n",
    "\n",
    "\n",
    "graph = {\n",
    "    0: [1],\n",
    "    1: [2],\n",
    "    2: [1, 3, 4],\n",
    "    3: [2, 4],\n",
    "    4: [2, 3, 5],\n",
    "    5: [4],\n",
    "    6: [7],\n",
    "    7: [6, 8, 9],\n",
    "    8: [7],\n",
    "    9: [7]\n",
    "}\n",
    "\n",
    "position = {\n",
    "    0: (1,3),\n",
    "    1: (3,3),\n",
    "    2: (2,2),\n",
    "    3: (1,1),\n",
    "    4: (3,1),\n",
    "    5: (4,2),\n",
    "    6: (5,2),\n",
    "    7: (5,1),\n",
    "    8: (6,2),\n",
    "    9: (4,1)\n",
    "}"
   ]
  },
  {
   "cell_type": "code",
   "execution_count": 3,
   "metadata": {},
   "outputs": [],
   "source": [
    "G = nx.Graph()\n",
    "G.clear()\n",
    "\n",
    "for u in graph:\n",
    "    G.add_node(str(u), pos = position[u])\n",
    "    \n",
    "for u in graph:\n",
    "    for v in graph[u]:\n",
    "        G.add_edge(str(u), str(v))"
   ]
  },
  {
   "cell_type": "code",
   "execution_count": 4,
   "metadata": {},
   "outputs": [
    {
     "name": "stdout",
     "output_type": "stream",
     "text": [
      "#Nodes: 10\n",
      "#Edges: 9\n"
     ]
    }
   ],
   "source": [
    "print(\"#Nodes:\", G.number_of_nodes())\n",
    "print(\"#Edges:\", G.number_of_edges())"
   ]
  },
  {
   "cell_type": "code",
   "execution_count": 5,
   "metadata": {},
   "outputs": [
    {
     "name": "stdout",
     "output_type": "stream",
     "text": [
      "['0', '1', '2', '3', '4', '5', '6', '7', '8', '9']\n",
      "[('0', '1'), ('1', '2'), ('2', '3'), ('2', '4'), ('3', '4'), ('4', '5'), ('6', '7'), ('7', '8'), ('7', '9')]\n"
     ]
    }
   ],
   "source": [
    "print(list(G.nodes))\n",
    "print(list(G.edges))#, list(G.adj[1]), list(G.neighbors(1)), G.degree[1])  # the number of edges incident to 1"
   ]
  },
  {
   "cell_type": "code",
   "execution_count": 6,
   "metadata": {},
   "outputs": [],
   "source": [
    "pos=nx.get_node_attributes(G,'pos')\n",
    "nx.draw(G,pos,with_labels=True, font_weight='bold')"
   ]
  },
  {
   "cell_type": "code",
   "execution_count": 7,
   "metadata": {},
   "outputs": [
    {
     "data": {
      "image/png": "[encoded data removed]",
      "text/plain": [
       "<matplotlib.figure.Figure at 0x254624660f0>"
      ]
     },
     "metadata": {},
     "output_type": "display_data"
    }
   ],
   "source": [
    "plt.show()"
   ]
  },
  {
   "cell_type": "code",
   "execution_count": null,
   "metadata": {},
   "outputs": [],
   "source": []
  }
 ],
 "metadata": {
  "kernelspec": {
   "display_name": "Python 3",
   "language": "python",
   "name": "python3"
  },
  "language_info": {
   "codemirror_mode": {
    "name": "ipython",
    "version": 3
   },
   "file_extension": ".py",
   "mimetype": "text/x-python",
   "name": "python",
   "nbconvert_exporter": "python",
   "pygments_lexer": "ipython3",
   "version": "3.6.3"
  }
 },
 "nbformat": 4,
 "nbformat_minor": 2
}
